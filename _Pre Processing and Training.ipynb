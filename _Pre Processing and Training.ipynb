{
 "cells": [
  {
   "cell_type": "markdown",
   "id": "d426c30f",
   "metadata": {},
   "source": [
    "# Pre Processing and Training\n"
   ]
  },
  {
   "cell_type": "markdown",
   "id": "0534c2b7",
   "metadata": {},
   "source": [
    "Data preprocessing is an integral step in Machine Learning as the quality of data and the useful information that can be derived from it directly affects the ability of our model to learn; therefore, it is extremely important that we preprocess our data before feeding it into our model.\n",
    "\n",
    "In this portion of the project I will be training and modeling the data to be able to make it usable for modeling. Process:\n",
    "\n",
    "-Creat dummy features\n",
    "\n",
    "-Scale standardization\n",
    "\n",
    "-Split data into training and testing subsets"
   ]
  },
  {
   "cell_type": "code",
   "execution_count": null,
   "id": "45156017",
   "metadata": {},
   "outputs": [],
   "source": [
    "import numpy as np\n",
    "import pandas as pd\n",
    "import seaborn as sns\n",
    "import matplotlib.pyplot as plt\n",
    "%matplotlib inline\n",
    "from sklearn.model_selection import train_test_split\n",
    "import scipy\n",
    "import pandas.util.testing as tm"
   ]
  },
  {
   "cell_type": "code",
   "execution_count": null,
   "id": "24aca07d",
   "metadata": {},
   "outputs": [],
   "source": [
    "sns.set_style(style = 'whitegrid')"
   ]
  },
  {
   "cell_type": "code",
   "execution_count": null,
   "id": "7f9e1629",
   "metadata": {},
   "outputs": [],
   "source": [
    "nba = pd.read_excel(r\"C:\\Users\\ptlon\\OneDrive\\Desktop\\nba_1.xlsx\")"
   ]
  },
  {
   "cell_type": "code",
   "execution_count": null,
   "id": "69ce1518",
   "metadata": {},
   "outputs": [],
   "source": [
    "nba"
   ]
  },
  {
   "cell_type": "code",
   "execution_count": null,
   "id": "2cdc7eda",
   "metadata": {},
   "outputs": [],
   "source": [
    "\n",
    "Unnamed: 0\tSeason\tTeam\tW\tL\tW/L%\tFinish\tSRS\tPace\tRel_Pace\t...\tORtg_y\tDRtg_y\tOWS\tDWS\tWS\tWS/48\tOBPM\tDBPM\tBPM\tVORP\n",
    "0\t0\t2015\tAtlanta Hawks\t48\t34\t58.5\t2\t3.49\t97.1\t1.3\t...\t140.0\t110.0\t0.0\t0.0\t0.0\t0.291\t6.3\t-10.5\t-4.1\t0.0\n",
    "1\t1\t2015\tAtlanta Hawks\t48\t34\t58.5\t2\t3.49\t97.1\t1.3\t...\t204.0\t112.0\t0.0\t0.0\t0.0\t0.343\t9.7\t-6.6\t3.2\t0.0\n",
    "2\t2\t2015\tAtlanta Hawks\t48\t34\t58.5\t2\t3.49\t97.1\t1.3\t...\t125.0\t103.0\t13.8\t4.1\t17.9\t0.318\t12.4\t0.1\t12.5\t9.8\n",
    "3\t3\t2015\tAtlanta Hawks\t48\t34\t58.5\t2\t3.49\t97.1\t1.3\t...\t122.0\t104.0\t11.0\t3.5\t14.5\t0.270\t7.0\t0.9\t7.9\t6.4\n",
    "4\t4\t2015\tAtlanta Hawks\t48\t34\t58.5\t2\t3.49\t97.1\t1.3\t...\t130.0\t96.0\t2.3\t1.2\t3.4\t0.325\t2.7\t0.9\t3.6\t0.7\n",
    "...\t...\t...\t...\t...\t...\t...\t...\t...\t...\t...\t...\t...\t...\t...\t...\t...\t...\t...\t...\t...\t...\n",
    "85465\t85465\t2010\tWashington Wizards\t23\t59\t28.0\t5\t-7.30\t93.8\t1.7\t...\t110.0\t111.0\t3.9\t1.8\t5.8\t0.088\t1.5\t-0.4\t1.1\t2.5\n",
    "85466\t85466\t2010\tWashington Wizards\t23\t59\t28.0\t5\t-7.30\t93.8\t1.7\t...\t101.0\t111.0\t0.2\t0.4\t0.6\t0.038\t-1.6\t1.2\t-0.4\t0.3\n",
    "85467\t85467\t2010\tWashington Wizards\t23\t59\t28.0\t5\t-7.30\t93.8\t1.7\t...\t107.0\t114.0\t2.3\t0.4\t2.8\t0.065\t0.5\t-3.5\t-3.0\t-0.5\n",
    "85468\t85468\t2010\tWashington Wizards\t23\t59\t28.0\t5\t-7.30\t93.8\t1.7\t...\t106.0\t106.0\t1.1\t1.8\t2.9\t0.088\t-1.6\t0.3\t-1.3\t0.3\n",
    "85469\t85469\t2010\tWashington Wizards\t23\t59\t28.0\t5\t-7.30\t93.8\t1.7\t...\t110.0\t104.0\t3.2\t3.0\t6.2\t0.139\t0.3\t0.0\t0.3\t1.2\n",
    "85470 rows × 45 columns\n",
    "\n"
   ]
  },
  {
   "cell_type": "code",
   "execution_count": null,
   "id": "9c9d4a56",
   "metadata": {},
   "outputs": [],
   "source": [
    "nrow, ncol = nba.shape\n",
    "nrow, ncol"
   ]
  },
  {
   "cell_type": "code",
   "execution_count": null,
   "id": "6436a3b2",
   "metadata": {},
   "outputs": [],
   "source": [
    "nba.info()"
   ]
  },
  {
   "cell_type": "code",
   "execution_count": null,
   "id": "a0ef1d6b",
   "metadata": {},
   "outputs": [],
   "source": [
    "df = nba[['W/L%', 'Pace']]"
   ]
  },
  {
   "cell_type": "code",
   "execution_count": null,
   "id": "136f8893",
   "metadata": {},
   "outputs": [],
   "source": [
    "df.head()"
   ]
  },
  {
   "cell_type": "code",
   "execution_count": null,
   "id": "1983c6f7",
   "metadata": {},
   "outputs": [],
   "source": [
    "x = df.iloc[:, 0:1].values\n",
    "y = df.iloc[:, -1].values"
   ]
  },
  {
   "cell_type": "code",
   "execution_count": null,
   "id": "116b8e41",
   "metadata": {},
   "outputs": [],
   "source": [
    "x"
   ]
  },
  {
   "cell_type": "code",
   "execution_count": null,
   "id": "ea31acea",
   "metadata": {},
   "outputs": [],
   "source": [
    "y"
   ]
  },
  {
   "cell_type": "markdown",
   "id": "46bfaca0",
   "metadata": {},
   "source": [
    "Divide the complete dataset into training and testing data"
   ]
  },
  {
   "cell_type": "code",
   "execution_count": null,
   "id": "1c70e34f",
   "metadata": {},
   "outputs": [],
   "source": [
    "X_train, X_test, y_train, y_test = train_test_split(x, y, test_size = 0.2, random_state = 0)"
   ]
  },
  {
   "cell_type": "markdown",
   "id": "d0a39e0c",
   "metadata": {},
   "source": [
    "Implement Classifier based on Simple Linear Regression"
   ]
  },
  {
   "cell_type": "code",
   "execution_count": null,
   "id": "03ffeedc",
   "metadata": {},
   "outputs": [],
   "source": [
    "from sklearn.linear_model import LinearRegression\n",
    "model = LinearRegression()\n",
    "model.fit(X_train, y_train)"
   ]
  },
  {
   "cell_type": "code",
   "execution_count": null,
   "id": "a9a3bafc",
   "metadata": {},
   "outputs": [],
   "source": [
    "predictions = model.predict(X_test)\n",
    "predictions"
   ]
  },
  {
   "cell_type": "code",
   "execution_count": null,
   "id": "d89fd717",
   "metadata": {},
   "outputs": [],
   "source": [
    "sns.distplot(predictions-y_test)"
   ]
  },
  {
   "cell_type": "code",
   "execution_count": null,
   "id": "d103290c",
   "metadata": {},
   "outputs": [],
   "source": [
    "plt.scatter(X_train, y_train, color = 'red')\n",
    "plt.plot(X_train, model.predict(X_train), color = 'blue')\n",
    "plt.title('W/L% vs Pace (Training set)')\n",
    "plt.xlabel('W/L%')\n",
    "plt.ylabel('Pace')\n",
    "plt.show()"
   ]
  },
  {
   "cell_type": "code",
   "execution_count": null,
   "id": "961a9493",
   "metadata": {},
   "outputs": [],
   "source": [
    "plt.scatter(X_test, y_test, color = 'red')\n",
    "plt.plot(X_test, model.predict(X_test), color = 'blue')\n",
    "plt.title('W/L% vs Pace (Test set)')\n",
    "plt.xlabel('W/L%')\n",
    "plt.ylabel('Pace')\n",
    "plt.show()"
   ]
  },
  {
   "cell_type": "markdown",
   "id": "25ab13ba",
   "metadata": {},
   "source": [
    "Standardize the magnitude of numeric features using a scaler"
   ]
  },
  {
   "cell_type": "code",
   "execution_count": null,
   "id": "2f09cda6",
   "metadata": {},
   "outputs": [],
   "source": [
    "from sklearn.preprocessing import StandardScaler\n",
    "sc_X = StandardScaler()\n",
    "sc_Y = StandardScaler()\n",
    "Xs = sc_X.fit_transform(X_test)\n",
    "Ys = np.squeeze(sc_Y.fit_transform(y_test.reshape(-1, 1)))"
   ]
  },
  {
   "cell_type": "code",
   "execution_count": null,
   "id": "b9d01b73",
   "metadata": {},
   "outputs": [],
   "source": [
    "models = LinearRegression()\n",
    "models.fit(Xs, Ys)"
   ]
  },
  {
   "cell_type": "code",
   "execution_count": null,
   "id": "4a875f78",
   "metadata": {},
   "outputs": [],
   "source": [
    "predictionss = models.predict(Xs)\n",
    "predictionss"
   ]
  },
  {
   "cell_type": "code",
   "execution_count": null,
   "id": "5e0d149e",
   "metadata": {},
   "outputs": [],
   "source": [
    "sns.distplot(predictionss-Ys)"
   ]
  },
  {
   "cell_type": "code",
   "execution_count": null,
   "id": "3c3aadfd",
   "metadata": {},
   "outputs": [],
   "source": [
    "plt.scatter(Xs, Ys, color = 'red')\n",
    "plt.plot(Xs, model.predict(Xs), color = 'blue')\n",
    "plt.title('Playoffs vs 3PAr (Training set)')\n",
    "plt.xlabel('Playoffs')\n",
    "plt.ylabel('3PAr')\n",
    "plt.show()"
   ]
  },
  {
   "cell_type": "markdown",
   "id": "efc9ec93",
   "metadata": {},
   "source": [
    "Convert Categorical data into dummy or indicator variables"
   ]
  },
  {
   "cell_type": "code",
   "execution_count": null,
   "id": "7b6bbdfa",
   "metadata": {},
   "outputs": [],
   "source": [
    "VORP_dummies = pd.get_dummies(nba.VORP, prefix='VORP') \n",
    "nba = pd.concat([nba, VORP_dummies], axis = 1)"
   ]
  },
  {
   "cell_type": "code",
   "execution_count": null,
   "id": "87d5acb3",
   "metadata": {},
   "outputs": [],
   "source": [
    "Player_dummies = pd.get_dummies(nba.Player, prefix='Player') \n",
    "nba = pd.concat([nba, Player_dummies], axis = 1)\n",
    "nba.head()"
   ]
  },
  {
   "cell_type": "code",
   "execution_count": null,
   "id": "4185a7f1",
   "metadata": {},
   "outputs": [],
   "source": [
    "dataset_new = nba.select_dtypes(include=['int', 'float'])\n",
    "dataset_new.head()"
   ]
  },
  {
   "cell_type": "code",
   "execution_count": null,
   "id": "7d83d89d",
   "metadata": {},
   "outputs": [],
   "source": [
    "dataset_new.to_csv(\"salary_dummies.csv\")"
   ]
  },
  {
   "cell_type": "code",
   "execution_count": null,
   "id": "2cdf6627",
   "metadata": {},
   "outputs": [],
   "source": [
    "dataset_new"
   ]
  },
  {
   "cell_type": "markdown",
   "id": "0627166f",
   "metadata": {},
   "source": [
    "# Summary"
   ]
  },
  {
   "cell_type": "markdown",
   "id": "a43e5a89",
   "metadata": {},
   "source": [
    "Now that the data is pre-processed and trained we are ready to start the modeling process! Data preprocessing is the process of transforming raw data into an understandable format. It is also an important step in data mining as we cannot work with raw data."
   ]
  },
  {
   "cell_type": "markdown",
   "id": "d0957895",
   "metadata": {},
   "source": [
    "For modeling we will be looking at some categorical data that will help usp find what stats are important for winning games, and, which player stats are important for winning games."
   ]
  },
  {
   "cell_type": "code",
   "execution_count": null,
   "id": "b8e571ac",
   "metadata": {},
   "outputs": [],
   "source": []
  }
 ],
 "metadata": {
  "kernelspec": {
   "display_name": "Python 3 (ipykernel)",
   "language": "python",
   "name": "python3"
  },
  "language_info": {
   "codemirror_mode": {
    "name": "ipython",
    "version": 3
   },
   "file_extension": ".py",
   "mimetype": "text/x-python",
   "name": "python",
   "nbconvert_exporter": "python",
   "pygments_lexer": "ipython3",
   "version": "3.9.7"
  }
 },
 "nbformat": 4,
 "nbformat_minor": 5
}
