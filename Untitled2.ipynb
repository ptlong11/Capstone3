{
 "cells": [
  {
   "cell_type": "markdown",
   "id": "39c913b7",
   "metadata": {},
   "source": [
    "# Pre Processing and Training "
   ]
  },
  {
   "cell_type": "markdown",
   "id": "ba025097",
   "metadata": {},
   "source": [
    "\n",
    "Data preprocessing is an integral step in Machine Learning as the quality of data and the useful information that can be derived from it directly affects the ability of our model to learn; therefore, it is extremely important that we preprocess our data before feeding it into our model."
   ]
  },
  {
   "cell_type": "markdown",
   "id": "92ce3117",
   "metadata": {},
   "source": [
    "In this portion of the project I will be training and modeling the data to be able to make it usable for modeling.\n",
    "Process:\n",
    "\n",
    "-Creat dummy features\n",
    "\n",
    "-Scale standardization\n",
    "\n",
    "-Split data into training and testing subsets"
   ]
  },
  {
   "cell_type": "code",
   "execution_count": 9,
   "id": "c9109c6e",
   "metadata": {},
   "outputs": [],
   "source": [
    "import numpy as np\n",
    "import pandas as pd\n",
    "import seaborn as sns\n",
    "import matplotlib.pyplot as plt\n",
    "%matplotlib inline\n",
    "from sklearn.model_selection import train_test_split\n",
    "import scipy\n",
    "import pandas.util.testing as tm"
   ]
  },
  {
   "cell_type": "code",
   "execution_count": 10,
   "id": "4e1000a9",
   "metadata": {},
   "outputs": [],
   "source": [
    "nba = pd.read_excel(r'/Users/patricklong/Downloads/nba_1.xlsx')"
   ]
  },
  {
   "cell_type": "code",
   "execution_count": 11,
   "id": "f81385a1",
   "metadata": {},
   "outputs": [
    {
     "data": {
      "text/html": [
       "<div>\n",
       "<style scoped>\n",
       "    .dataframe tbody tr th:only-of-type {\n",
       "        vertical-align: middle;\n",
       "    }\n",
       "\n",
       "    .dataframe tbody tr th {\n",
       "        vertical-align: top;\n",
       "    }\n",
       "\n",
       "    .dataframe thead th {\n",
       "        text-align: right;\n",
       "    }\n",
       "</style>\n",
       "<table border=\"1\" class=\"dataframe\">\n",
       "  <thead>\n",
       "    <tr style=\"text-align: right;\">\n",
       "      <th></th>\n",
       "      <th>Unnamed: 0</th>\n",
       "      <th>Season</th>\n",
       "      <th>Team</th>\n",
       "      <th>W</th>\n",
       "      <th>L</th>\n",
       "      <th>W/L%</th>\n",
       "      <th>Finish</th>\n",
       "      <th>SRS</th>\n",
       "      <th>Pace</th>\n",
       "      <th>Rel_Pace</th>\n",
       "      <th>...</th>\n",
       "      <th>ORtg_y</th>\n",
       "      <th>DRtg_y</th>\n",
       "      <th>OWS</th>\n",
       "      <th>DWS</th>\n",
       "      <th>WS</th>\n",
       "      <th>WS/48</th>\n",
       "      <th>OBPM</th>\n",
       "      <th>DBPM</th>\n",
       "      <th>BPM</th>\n",
       "      <th>VORP</th>\n",
       "    </tr>\n",
       "  </thead>\n",
       "  <tbody>\n",
       "    <tr>\n",
       "      <th>0</th>\n",
       "      <td>0</td>\n",
       "      <td>2015</td>\n",
       "      <td>Atlanta Hawks</td>\n",
       "      <td>48</td>\n",
       "      <td>34</td>\n",
       "      <td>58.5</td>\n",
       "      <td>2</td>\n",
       "      <td>3.49</td>\n",
       "      <td>97.1</td>\n",
       "      <td>1.3</td>\n",
       "      <td>...</td>\n",
       "      <td>140.0</td>\n",
       "      <td>110.0</td>\n",
       "      <td>0.0</td>\n",
       "      <td>0.0</td>\n",
       "      <td>0.0</td>\n",
       "      <td>0.291</td>\n",
       "      <td>6.3</td>\n",
       "      <td>-10.5</td>\n",
       "      <td>-4.1</td>\n",
       "      <td>0.0</td>\n",
       "    </tr>\n",
       "    <tr>\n",
       "      <th>1</th>\n",
       "      <td>1</td>\n",
       "      <td>2015</td>\n",
       "      <td>Atlanta Hawks</td>\n",
       "      <td>48</td>\n",
       "      <td>34</td>\n",
       "      <td>58.5</td>\n",
       "      <td>2</td>\n",
       "      <td>3.49</td>\n",
       "      <td>97.1</td>\n",
       "      <td>1.3</td>\n",
       "      <td>...</td>\n",
       "      <td>204.0</td>\n",
       "      <td>112.0</td>\n",
       "      <td>0.0</td>\n",
       "      <td>0.0</td>\n",
       "      <td>0.0</td>\n",
       "      <td>0.343</td>\n",
       "      <td>9.7</td>\n",
       "      <td>-6.6</td>\n",
       "      <td>3.2</td>\n",
       "      <td>0.0</td>\n",
       "    </tr>\n",
       "    <tr>\n",
       "      <th>2</th>\n",
       "      <td>2</td>\n",
       "      <td>2015</td>\n",
       "      <td>Atlanta Hawks</td>\n",
       "      <td>48</td>\n",
       "      <td>34</td>\n",
       "      <td>58.5</td>\n",
       "      <td>2</td>\n",
       "      <td>3.49</td>\n",
       "      <td>97.1</td>\n",
       "      <td>1.3</td>\n",
       "      <td>...</td>\n",
       "      <td>125.0</td>\n",
       "      <td>103.0</td>\n",
       "      <td>13.8</td>\n",
       "      <td>4.1</td>\n",
       "      <td>17.9</td>\n",
       "      <td>0.318</td>\n",
       "      <td>12.4</td>\n",
       "      <td>0.1</td>\n",
       "      <td>12.5</td>\n",
       "      <td>9.8</td>\n",
       "    </tr>\n",
       "    <tr>\n",
       "      <th>3</th>\n",
       "      <td>3</td>\n",
       "      <td>2015</td>\n",
       "      <td>Atlanta Hawks</td>\n",
       "      <td>48</td>\n",
       "      <td>34</td>\n",
       "      <td>58.5</td>\n",
       "      <td>2</td>\n",
       "      <td>3.49</td>\n",
       "      <td>97.1</td>\n",
       "      <td>1.3</td>\n",
       "      <td>...</td>\n",
       "      <td>122.0</td>\n",
       "      <td>104.0</td>\n",
       "      <td>11.0</td>\n",
       "      <td>3.5</td>\n",
       "      <td>14.5</td>\n",
       "      <td>0.270</td>\n",
       "      <td>7.0</td>\n",
       "      <td>0.9</td>\n",
       "      <td>7.9</td>\n",
       "      <td>6.4</td>\n",
       "    </tr>\n",
       "    <tr>\n",
       "      <th>4</th>\n",
       "      <td>4</td>\n",
       "      <td>2015</td>\n",
       "      <td>Atlanta Hawks</td>\n",
       "      <td>48</td>\n",
       "      <td>34</td>\n",
       "      <td>58.5</td>\n",
       "      <td>2</td>\n",
       "      <td>3.49</td>\n",
       "      <td>97.1</td>\n",
       "      <td>1.3</td>\n",
       "      <td>...</td>\n",
       "      <td>130.0</td>\n",
       "      <td>96.0</td>\n",
       "      <td>2.3</td>\n",
       "      <td>1.2</td>\n",
       "      <td>3.4</td>\n",
       "      <td>0.325</td>\n",
       "      <td>2.7</td>\n",
       "      <td>0.9</td>\n",
       "      <td>3.6</td>\n",
       "      <td>0.7</td>\n",
       "    </tr>\n",
       "    <tr>\n",
       "      <th>...</th>\n",
       "      <td>...</td>\n",
       "      <td>...</td>\n",
       "      <td>...</td>\n",
       "      <td>...</td>\n",
       "      <td>...</td>\n",
       "      <td>...</td>\n",
       "      <td>...</td>\n",
       "      <td>...</td>\n",
       "      <td>...</td>\n",
       "      <td>...</td>\n",
       "      <td>...</td>\n",
       "      <td>...</td>\n",
       "      <td>...</td>\n",
       "      <td>...</td>\n",
       "      <td>...</td>\n",
       "      <td>...</td>\n",
       "      <td>...</td>\n",
       "      <td>...</td>\n",
       "      <td>...</td>\n",
       "      <td>...</td>\n",
       "      <td>...</td>\n",
       "    </tr>\n",
       "    <tr>\n",
       "      <th>85465</th>\n",
       "      <td>85465</td>\n",
       "      <td>2010</td>\n",
       "      <td>Washington Wizards</td>\n",
       "      <td>23</td>\n",
       "      <td>59</td>\n",
       "      <td>28.0</td>\n",
       "      <td>5</td>\n",
       "      <td>-7.30</td>\n",
       "      <td>93.8</td>\n",
       "      <td>1.7</td>\n",
       "      <td>...</td>\n",
       "      <td>110.0</td>\n",
       "      <td>111.0</td>\n",
       "      <td>3.9</td>\n",
       "      <td>1.8</td>\n",
       "      <td>5.8</td>\n",
       "      <td>0.088</td>\n",
       "      <td>1.5</td>\n",
       "      <td>-0.4</td>\n",
       "      <td>1.1</td>\n",
       "      <td>2.5</td>\n",
       "    </tr>\n",
       "    <tr>\n",
       "      <th>85466</th>\n",
       "      <td>85466</td>\n",
       "      <td>2010</td>\n",
       "      <td>Washington Wizards</td>\n",
       "      <td>23</td>\n",
       "      <td>59</td>\n",
       "      <td>28.0</td>\n",
       "      <td>5</td>\n",
       "      <td>-7.30</td>\n",
       "      <td>93.8</td>\n",
       "      <td>1.7</td>\n",
       "      <td>...</td>\n",
       "      <td>101.0</td>\n",
       "      <td>111.0</td>\n",
       "      <td>0.2</td>\n",
       "      <td>0.4</td>\n",
       "      <td>0.6</td>\n",
       "      <td>0.038</td>\n",
       "      <td>-1.6</td>\n",
       "      <td>1.2</td>\n",
       "      <td>-0.4</td>\n",
       "      <td>0.3</td>\n",
       "    </tr>\n",
       "    <tr>\n",
       "      <th>85467</th>\n",
       "      <td>85467</td>\n",
       "      <td>2010</td>\n",
       "      <td>Washington Wizards</td>\n",
       "      <td>23</td>\n",
       "      <td>59</td>\n",
       "      <td>28.0</td>\n",
       "      <td>5</td>\n",
       "      <td>-7.30</td>\n",
       "      <td>93.8</td>\n",
       "      <td>1.7</td>\n",
       "      <td>...</td>\n",
       "      <td>107.0</td>\n",
       "      <td>114.0</td>\n",
       "      <td>2.3</td>\n",
       "      <td>0.4</td>\n",
       "      <td>2.8</td>\n",
       "      <td>0.065</td>\n",
       "      <td>0.5</td>\n",
       "      <td>-3.5</td>\n",
       "      <td>-3.0</td>\n",
       "      <td>-0.5</td>\n",
       "    </tr>\n",
       "    <tr>\n",
       "      <th>85468</th>\n",
       "      <td>85468</td>\n",
       "      <td>2010</td>\n",
       "      <td>Washington Wizards</td>\n",
       "      <td>23</td>\n",
       "      <td>59</td>\n",
       "      <td>28.0</td>\n",
       "      <td>5</td>\n",
       "      <td>-7.30</td>\n",
       "      <td>93.8</td>\n",
       "      <td>1.7</td>\n",
       "      <td>...</td>\n",
       "      <td>106.0</td>\n",
       "      <td>106.0</td>\n",
       "      <td>1.1</td>\n",
       "      <td>1.8</td>\n",
       "      <td>2.9</td>\n",
       "      <td>0.088</td>\n",
       "      <td>-1.6</td>\n",
       "      <td>0.3</td>\n",
       "      <td>-1.3</td>\n",
       "      <td>0.3</td>\n",
       "    </tr>\n",
       "    <tr>\n",
       "      <th>85469</th>\n",
       "      <td>85469</td>\n",
       "      <td>2010</td>\n",
       "      <td>Washington Wizards</td>\n",
       "      <td>23</td>\n",
       "      <td>59</td>\n",
       "      <td>28.0</td>\n",
       "      <td>5</td>\n",
       "      <td>-7.30</td>\n",
       "      <td>93.8</td>\n",
       "      <td>1.7</td>\n",
       "      <td>...</td>\n",
       "      <td>110.0</td>\n",
       "      <td>104.0</td>\n",
       "      <td>3.2</td>\n",
       "      <td>3.0</td>\n",
       "      <td>6.2</td>\n",
       "      <td>0.139</td>\n",
       "      <td>0.3</td>\n",
       "      <td>0.0</td>\n",
       "      <td>0.3</td>\n",
       "      <td>1.2</td>\n",
       "    </tr>\n",
       "  </tbody>\n",
       "</table>\n",
       "<p>85470 rows × 45 columns</p>\n",
       "</div>"
      ],
      "text/plain": [
       "       Unnamed: 0  Season                Team   W   L  W/L%  Finish   SRS  \\\n",
       "0               0    2015       Atlanta Hawks  48  34  58.5       2  3.49   \n",
       "1               1    2015       Atlanta Hawks  48  34  58.5       2  3.49   \n",
       "2               2    2015       Atlanta Hawks  48  34  58.5       2  3.49   \n",
       "3               3    2015       Atlanta Hawks  48  34  58.5       2  3.49   \n",
       "4               4    2015       Atlanta Hawks  48  34  58.5       2  3.49   \n",
       "...           ...     ...                 ...  ..  ..   ...     ...   ...   \n",
       "85465       85465    2010  Washington Wizards  23  59  28.0       5 -7.30   \n",
       "85466       85466    2010  Washington Wizards  23  59  28.0       5 -7.30   \n",
       "85467       85467    2010  Washington Wizards  23  59  28.0       5 -7.30   \n",
       "85468       85468    2010  Washington Wizards  23  59  28.0       5 -7.30   \n",
       "85469       85469    2010  Washington Wizards  23  59  28.0       5 -7.30   \n",
       "\n",
       "       Pace  Rel_Pace  ...  ORtg_y  DRtg_y   OWS  DWS    WS  WS/48  OBPM  \\\n",
       "0      97.1       1.3  ...   140.0   110.0   0.0  0.0   0.0  0.291   6.3   \n",
       "1      97.1       1.3  ...   204.0   112.0   0.0  0.0   0.0  0.343   9.7   \n",
       "2      97.1       1.3  ...   125.0   103.0  13.8  4.1  17.9  0.318  12.4   \n",
       "3      97.1       1.3  ...   122.0   104.0  11.0  3.5  14.5  0.270   7.0   \n",
       "4      97.1       1.3  ...   130.0    96.0   2.3  1.2   3.4  0.325   2.7   \n",
       "...     ...       ...  ...     ...     ...   ...  ...   ...    ...   ...   \n",
       "85465  93.8       1.7  ...   110.0   111.0   3.9  1.8   5.8  0.088   1.5   \n",
       "85466  93.8       1.7  ...   101.0   111.0   0.2  0.4   0.6  0.038  -1.6   \n",
       "85467  93.8       1.7  ...   107.0   114.0   2.3  0.4   2.8  0.065   0.5   \n",
       "85468  93.8       1.7  ...   106.0   106.0   1.1  1.8   2.9  0.088  -1.6   \n",
       "85469  93.8       1.7  ...   110.0   104.0   3.2  3.0   6.2  0.139   0.3   \n",
       "\n",
       "       DBPM   BPM VORP  \n",
       "0     -10.5  -4.1  0.0  \n",
       "1      -6.6   3.2  0.0  \n",
       "2       0.1  12.5  9.8  \n",
       "3       0.9   7.9  6.4  \n",
       "4       0.9   3.6  0.7  \n",
       "...     ...   ...  ...  \n",
       "85465  -0.4   1.1  2.5  \n",
       "85466   1.2  -0.4  0.3  \n",
       "85467  -3.5  -3.0 -0.5  \n",
       "85468   0.3  -1.3  0.3  \n",
       "85469   0.0   0.3  1.2  \n",
       "\n",
       "[85470 rows x 45 columns]"
      ]
     },
     "execution_count": 11,
     "metadata": {},
     "output_type": "execute_result"
    }
   ],
   "source": [
    "nba"
   ]
  },
  {
   "cell_type": "code",
   "execution_count": 12,
   "id": "8a0708f2",
   "metadata": {},
   "outputs": [],
   "source": [
    "sns.set_style(style = 'whitegrid')"
   ]
  },
  {
   "cell_type": "code",
   "execution_count": 13,
   "id": "4a2d8fa9",
   "metadata": {},
   "outputs": [
    {
     "data": {
      "text/plain": [
       "(85470, 45)"
      ]
     },
     "execution_count": 13,
     "metadata": {},
     "output_type": "execute_result"
    }
   ],
   "source": [
    "nrow, ncol = nba.shape\n",
    "nrow, ncol"
   ]
  },
  {
   "cell_type": "code",
   "execution_count": 14,
   "id": "48a52abe",
   "metadata": {},
   "outputs": [
    {
     "name": "stdout",
     "output_type": "stream",
     "text": [
      "<class 'pandas.core.frame.DataFrame'>\n",
      "RangeIndex: 85470 entries, 0 to 85469\n",
      "Data columns (total 45 columns):\n",
      " #   Column      Non-Null Count  Dtype  \n",
      "---  ------      --------------  -----  \n",
      " 0   Unnamed: 0  85470 non-null  int64  \n",
      " 1   Season      85470 non-null  int64  \n",
      " 2   Team        85470 non-null  object \n",
      " 3   W           85470 non-null  int64  \n",
      " 4   L           85470 non-null  int64  \n",
      " 5   W/L%        85470 non-null  float64\n",
      " 6   Finish      85470 non-null  int64  \n",
      " 7   SRS         85470 non-null  float64\n",
      " 8   Pace        85470 non-null  float64\n",
      " 9   Rel_Pace    85470 non-null  float64\n",
      " 10  ORtg_x      85470 non-null  float64\n",
      " 11  Rel_ORtg    85470 non-null  float64\n",
      " 12  DRtg_x      85470 non-null  float64\n",
      " 13  Rel_DRtg    85470 non-null  float64\n",
      " 14  Playoffs    85470 non-null  int64  \n",
      " 15  Coaches     85470 non-null  object \n",
      " 16  Top WS      85470 non-null  object \n",
      " 17  Player      85470 non-null  object \n",
      " 18  Age         85470 non-null  int64  \n",
      " 19  Tm          85470 non-null  object \n",
      " 20  Lg          85470 non-null  object \n",
      " 21  G           85470 non-null  int64  \n",
      " 22  GS          85470 non-null  int64  \n",
      " 23  MP          85470 non-null  int64  \n",
      " 24  PER         85440 non-null  float64\n",
      " 25  3PAr        85170 non-null  float64\n",
      " 26  FTr         85170 non-null  float64\n",
      " 27  ORB%        85440 non-null  float64\n",
      " 28  DRB%        85440 non-null  float64\n",
      " 29  TRB%        85440 non-null  float64\n",
      " 30  AST%        85440 non-null  float64\n",
      " 31  STL%        85440 non-null  float64\n",
      " 32  BLK%        85440 non-null  float64\n",
      " 33  TOV%        85230 non-null  float64\n",
      " 34  USG%        85440 non-null  float64\n",
      " 35  ORtg_y      85290 non-null  float64\n",
      " 36  DRtg_y      85440 non-null  float64\n",
      " 37  OWS         85470 non-null  float64\n",
      " 38  DWS         85470 non-null  float64\n",
      " 39  WS          85470 non-null  float64\n",
      " 40  WS/48       85440 non-null  float64\n",
      " 41  OBPM        85470 non-null  float64\n",
      " 42  DBPM        85470 non-null  float64\n",
      " 43  BPM         85470 non-null  float64\n",
      " 44  VORP        85470 non-null  float64\n",
      "dtypes: float64(29), int64(10), object(6)\n",
      "memory usage: 29.3+ MB\n"
     ]
    }
   ],
   "source": [
    "nba.info()"
   ]
  },
  {
   "cell_type": "code",
   "execution_count": 15,
   "id": "85767c63",
   "metadata": {},
   "outputs": [],
   "source": [
    "df = nba[['W/L%', 'Pace']]"
   ]
  },
  {
   "cell_type": "code",
   "execution_count": 16,
   "id": "e78e0525",
   "metadata": {},
   "outputs": [
    {
     "data": {
      "text/html": [
       "<div>\n",
       "<style scoped>\n",
       "    .dataframe tbody tr th:only-of-type {\n",
       "        vertical-align: middle;\n",
       "    }\n",
       "\n",
       "    .dataframe tbody tr th {\n",
       "        vertical-align: top;\n",
       "    }\n",
       "\n",
       "    .dataframe thead th {\n",
       "        text-align: right;\n",
       "    }\n",
       "</style>\n",
       "<table border=\"1\" class=\"dataframe\">\n",
       "  <thead>\n",
       "    <tr style=\"text-align: right;\">\n",
       "      <th></th>\n",
       "      <th>W/L%</th>\n",
       "      <th>Pace</th>\n",
       "    </tr>\n",
       "  </thead>\n",
       "  <tbody>\n",
       "    <tr>\n",
       "      <th>0</th>\n",
       "      <td>58.5</td>\n",
       "      <td>97.1</td>\n",
       "    </tr>\n",
       "    <tr>\n",
       "      <th>1</th>\n",
       "      <td>58.5</td>\n",
       "      <td>97.1</td>\n",
       "    </tr>\n",
       "    <tr>\n",
       "      <th>2</th>\n",
       "      <td>58.5</td>\n",
       "      <td>97.1</td>\n",
       "    </tr>\n",
       "    <tr>\n",
       "      <th>3</th>\n",
       "      <td>58.5</td>\n",
       "      <td>97.1</td>\n",
       "    </tr>\n",
       "    <tr>\n",
       "      <th>4</th>\n",
       "      <td>58.5</td>\n",
       "      <td>97.1</td>\n",
       "    </tr>\n",
       "  </tbody>\n",
       "</table>\n",
       "</div>"
      ],
      "text/plain": [
       "   W/L%  Pace\n",
       "0  58.5  97.1\n",
       "1  58.5  97.1\n",
       "2  58.5  97.1\n",
       "3  58.5  97.1\n",
       "4  58.5  97.1"
      ]
     },
     "execution_count": 16,
     "metadata": {},
     "output_type": "execute_result"
    }
   ],
   "source": [
    "df.head()"
   ]
  },
  {
   "cell_type": "markdown",
   "id": "76769f9b",
   "metadata": {},
   "source": [
    "Split the dataset into Independent(X) and Dependent(y) Variables\n",
    "\n",
    "\n"
   ]
  },
  {
   "cell_type": "code",
   "execution_count": 17,
   "id": "75f3f9c0",
   "metadata": {},
   "outputs": [],
   "source": [
    "x = df.iloc[:, 0:1].values\n",
    "y = df.iloc[:, -1].values"
   ]
  },
  {
   "cell_type": "code",
   "execution_count": 18,
   "id": "15b90f2f",
   "metadata": {},
   "outputs": [
    {
     "data": {
      "text/plain": [
       "array([[58.5],\n",
       "       [58.5],\n",
       "       [58.5],\n",
       "       ...,\n",
       "       [28. ],\n",
       "       [28. ],\n",
       "       [28. ]])"
      ]
     },
     "execution_count": 18,
     "metadata": {},
     "output_type": "execute_result"
    }
   ],
   "source": [
    "x"
   ]
  },
  {
   "cell_type": "code",
   "execution_count": 19,
   "id": "8cedb214",
   "metadata": {},
   "outputs": [
    {
     "data": {
      "text/plain": [
       "array([97.1, 97.1, 97.1, ..., 93.8, 93.8, 93.8])"
      ]
     },
     "execution_count": 19,
     "metadata": {},
     "output_type": "execute_result"
    }
   ],
   "source": [
    "y"
   ]
  },
  {
   "cell_type": "code",
   "execution_count": 20,
   "id": "d96b611c",
   "metadata": {},
   "outputs": [
    {
     "ename": "SyntaxError",
     "evalue": "invalid syntax (4191769811.py, line 1)",
     "output_type": "error",
     "traceback": [
      "\u001b[0;36m  File \u001b[0;32m\"/var/folders/c3/y5fsd4417db941q7lzlq2y2m0000gn/T/ipykernel_22908/4191769811.py\"\u001b[0;36m, line \u001b[0;32m1\u001b[0m\n\u001b[0;31m    Divide the complete dataset into training and testing data\u001b[0m\n\u001b[0m           ^\u001b[0m\n\u001b[0;31mSyntaxError\u001b[0m\u001b[0;31m:\u001b[0m invalid syntax\n"
     ]
    }
   ],
   "source": [
    "Divide the complete dataset into training and testing data\n"
   ]
  },
  {
   "cell_type": "code",
   "execution_count": null,
   "id": "3b60744f",
   "metadata": {},
   "outputs": [],
   "source": [
    "X_train, X_test, y_train, y_test = train_test_split(x, y, test_size = 0.2, random_state = 0)\n"
   ]
  },
  {
   "cell_type": "code",
   "execution_count": null,
   "id": "e419b7ac",
   "metadata": {},
   "outputs": [],
   "source": [
    "Implement Classifier based on Simple Linear Regression\n"
   ]
  },
  {
   "cell_type": "code",
   "execution_count": null,
   "id": "ad0dd501",
   "metadata": {},
   "outputs": [],
   "source": [
    "from sklearn.linear_model import LinearRegression\n",
    "model = LinearRegression()\n",
    "model.fit(X_train, y_train)"
   ]
  },
  {
   "cell_type": "code",
   "execution_count": null,
   "id": "ee45929a",
   "metadata": {},
   "outputs": [],
   "source": [
    "predictions = model.predict(X_test)\n",
    "predictions"
   ]
  },
  {
   "cell_type": "code",
   "execution_count": null,
   "id": "c1017a87",
   "metadata": {},
   "outputs": [],
   "source": [
    "sns.distplot(predictions-y_test)"
   ]
  },
  {
   "cell_type": "code",
   "execution_count": null,
   "id": "68b6d498",
   "metadata": {},
   "outputs": [],
   "source": [
    "plt.scatter(X_train, y_train, color = 'red')\n",
    "plt.plot(X_train, model.predict(X_train), color = 'blue')\n",
    "plt.title('W/L% vs Pace (Training set)')\n",
    "plt.xlabel('W/L%')\n",
    "plt.ylabel('Pace')\n",
    "plt.show()"
   ]
  },
  {
   "cell_type": "code",
   "execution_count": null,
   "id": "7c722237",
   "metadata": {},
   "outputs": [],
   "source": [
    "plt.scatter(X_test, y_test, color = 'red')\n",
    "plt.plot(X_test, model.predict(X_test), color = 'blue')\n",
    "plt.title('W/L% vs Pace (Test set)')\n",
    "plt.xlabel('W/L%')\n",
    "plt.ylabel('Pace')\n",
    "plt.show()"
   ]
  },
  {
   "cell_type": "code",
   "execution_count": null,
   "id": "1d5834ff",
   "metadata": {},
   "outputs": [],
   "source": [
    "Standardize the magnitude of numeric features using a scaler\n"
   ]
  },
  {
   "cell_type": "code",
   "execution_count": null,
   "id": "96387590",
   "metadata": {},
   "outputs": [],
   "source": [
    "from sklearn.preprocessing import StandardScaler\n",
    "sc_X = StandardScaler()\n",
    "sc_Y = StandardScaler()\n",
    "Xs = sc_X.fit_transform(X_test)\n",
    "Ys = np.squeeze(sc_Y.fit_transform(y_test.reshape(-1, 1)))"
   ]
  },
  {
   "cell_type": "code",
   "execution_count": null,
   "id": "2a080140",
   "metadata": {},
   "outputs": [],
   "source": [
    "models = LinearRegression()\n",
    "models.fit(Xs, Ys)"
   ]
  },
  {
   "cell_type": "code",
   "execution_count": null,
   "id": "1ea705b8",
   "metadata": {},
   "outputs": [],
   "source": [
    "predictionss = models.predict(Xs)\n",
    "predictionss"
   ]
  },
  {
   "cell_type": "code",
   "execution_count": null,
   "id": "eb8ef4e1",
   "metadata": {},
   "outputs": [],
   "source": [
    "sns.distplot(predictionss-Ys)"
   ]
  },
  {
   "cell_type": "code",
   "execution_count": null,
   "id": "14a08149",
   "metadata": {},
   "outputs": [],
   "source": [
    "df = nba[['Playoffs', '3PAr']]"
   ]
  },
  {
   "cell_type": "code",
   "execution_count": null,
   "id": "2f20665d",
   "metadata": {},
   "outputs": [],
   "source": [
    "plt.scatter(Xs, Ys, color = 'red')\n",
    "plt.plot(Xs, model.predict(Xs), color = 'blue')\n",
    "plt.title('Playoffs vs 3PAr (Training set)')\n",
    "plt.xlabel('Playoffs')\n",
    "plt.ylabel('3PAr')\n",
    "plt.show()"
   ]
  },
  {
   "cell_type": "code",
   "execution_count": null,
   "id": "5ecb72c1",
   "metadata": {},
   "outputs": [],
   "source": [
    "Convert Categorical data into dummy or indicator variables\n"
   ]
  },
  {
   "cell_type": "code",
   "execution_count": null,
   "id": "dbf2b295",
   "metadata": {},
   "outputs": [],
   "source": [
    "VORP_dummies = pd.get_dummies(nba.VORP, prefix='VORP') \n",
    "nba = pd.concat([nba, VORP_dummies], axis = 1)"
   ]
  },
  {
   "cell_type": "code",
   "execution_count": null,
   "id": "558b82e8",
   "metadata": {},
   "outputs": [],
   "source": [
    "Player_dummies = pd.get_dummies(nba.Player, prefix='Player') \n",
    "nba = pd.concat([nba, Player_dummies], axis = 1)\n",
    "nba.head()"
   ]
  },
  {
   "cell_type": "code",
   "execution_count": null,
   "id": "3c27e713",
   "metadata": {},
   "outputs": [],
   "source": [
    "dataset_new = nba.select_dtypes(include=['int', 'float'])\n",
    "dataset_new.head()"
   ]
  },
  {
   "cell_type": "code",
   "execution_count": null,
   "id": "6d3d0752",
   "metadata": {},
   "outputs": [],
   "source": [
    "dataset_new.to_csv(\"salary_dummies.csv\")"
   ]
  },
  {
   "cell_type": "code",
   "execution_count": null,
   "id": "e5fb8113",
   "metadata": {},
   "outputs": [],
   "source": [
    "dataset_new"
   ]
  },
  {
   "cell_type": "markdown",
   "id": "38752b00",
   "metadata": {},
   "source": [
    "# Summary"
   ]
  },
  {
   "cell_type": "markdown",
   "id": "9818c307",
   "metadata": {},
   "source": [
    "Now that the data is pre-processed and trained we are ready to start the modeling process! \n",
    "Data preprocessing is the process of transforming raw data into an understandable format. It is also an important step in data mining as we cannot work with raw data. "
   ]
  },
  {
   "cell_type": "code",
   "execution_count": null,
   "id": "0d6eedd8",
   "metadata": {},
   "outputs": [],
   "source": []
  }
 ],
 "metadata": {
  "kernelspec": {
   "display_name": "Python 3 (ipykernel)",
   "language": "python",
   "name": "python3"
  },
  "language_info": {
   "codemirror_mode": {
    "name": "ipython",
    "version": 3
   },
   "file_extension": ".py",
   "mimetype": "text/x-python",
   "name": "python",
   "nbconvert_exporter": "python",
   "pygments_lexer": "ipython3",
   "version": "3.9.7"
  }
 },
 "nbformat": 4,
 "nbformat_minor": 5
}
